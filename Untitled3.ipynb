{
 "cells": [
  {
   "cell_type": "code",
   "execution_count": 22,
   "id": "65a5587e-200a-4e6f-93a4-09053f08ab15",
   "metadata": {},
   "outputs": [],
   "source": [
    "# load required libraries\n",
    "from numpy import concatenate\n",
    "from pandas import read_csv\n",
    "from pandas import DataFrame\n",
    "from sklearn.preprocessing import MinMaxScaler\n",
    "import pandas as pd\n",
    "import numpy as np\n",
    "\n",
    "num_features = 34 #Number of features in the dataset\n"
   ]
  },
  {
   "cell_type": "code",
   "execution_count": 25,
   "id": "1ea45c05-2e69-446f-a9d5-e30b0401ca62",
   "metadata": {},
   "outputs": [],
   "source": [
    "from pandas import read_csv\n",
    "\n",
    "# Reading in the dataset from CSV file\n",
    "dataset = read_csv(\"final1.csv\", header=0, index_col=0, usecols=range(0, num_features+1))\n",
    "\n",
    "# If the DataFrame contains only one column, squeeze it into a Series\n",
    "if len(dataset.columns) == 1:\n",
    "    series = dataset.squeeze()\n",
    "    # Now 'series' contains the data as a Series object\n",
    "else:\n",
    "    # DataFrame 'df' contains multiple columns\n",
    "    # Handle multiple columns as needed\n",
    "    pass\n"
   ]
  },
  {
   "cell_type": "code",
   "execution_count": 24,
   "id": "70310f45-73e1-4182-96ee-7609b2039863",
   "metadata": {},
   "outputs": [
    {
     "name": "stdout",
     "output_type": "stream",
     "text": [
      "Index(['V1', 'V2', 'V3', 'V4', 'V5', 'V6', 'V7', 'V8', 'V9', 'V10', 'V11',\n",
      "       'V12', 'V13', 'V14', 'V15', 'V16', 'V17', 'V18', 'V19', 'V20', 'V21',\n",
      "       'V22', 'V23', 'V24', 'V25', 'V26', 'V27', 'V28', 'Amount', 'Class',\n",
      "       'Category_id', 'Category', 'Customer_id', 'Tran_id'],\n",
      "      dtype='object')\n"
     ]
    }
   ],
   "source": [
    "print(dataset.columns)"
   ]
  },
  {
   "cell_type": "code",
   "execution_count": 20,
   "id": "57ecb4ca-0841-467d-921b-b20d3f38dff1",
   "metadata": {},
   "outputs": [],
   "source": [
    "import pandas as pd\n",
    "\n",
    "\n",
    "dataset = pd.read_csv('final.csv')\n",
    "\n",
    "# Assuming your dataset is already loaded into a DataFrame named 'dataset'\n",
    "\n",
    "# Mark 'amount' as anomaly if 'category' is 'regalia' and 'amount' is greater than 150\n",
    "dataset['Anomaly'] = (dataset['Category'] == 'Regalia') & (dataset['Amount'] > 150)\n",
    "\n",
    "\n",
    "# Convert True/False to 1/0\n",
    "dataset['Anomaly'] = dataset['Anomaly'].astype(int)"
   ]
  },
  {
   "cell_type": "code",
   "execution_count": 15,
   "id": "0cde7229-1e34-4531-a742-9affd2ee239c",
   "metadata": {},
   "outputs": [
    {
     "name": "stdout",
     "output_type": "stream",
     "text": [
      "        Customer_id     Tran_Id\n",
      "205176  Cust_205177  Abcd205177\n",
      "205181  Cust_205182  Abcd205182\n",
      "205193  Cust_205194  Abcd205194\n",
      "205200  Cust_205201  Abcd205201\n",
      "205203  Cust_205204  Abcd205204\n",
      "...             ...         ...\n",
      "284748  Cust_284749  Abcd284749\n",
      "284753  Cust_284754  Abcd284754\n",
      "284754  Cust_284755  Abcd284755\n",
      "284757  Cust_284758  Abcd284758\n",
      "284806  Cust_284807  Abcd284807\n",
      "\n",
      "[10417 rows x 2 columns]\n"
     ]
    }
   ],
   "source": [
    "regalia_anomalies = dataset[(dataset['Anomaly'] == 1) & (dataset['Category'] == 'Regalia')][['Customer_id', 'Tran_Id',]]\n",
    "\n",
    "print(regalia_anomalies)\n"
   ]
  },
  {
   "cell_type": "code",
   "execution_count": 21,
   "id": "55705862-e7c8-474c-be20-eb1528a80e80",
   "metadata": {},
   "outputs": [
    {
     "name": "stdout",
     "output_type": "stream",
     "text": [
      "            Time        V1        V2        V3        V4        V5        V6  \\\n",
      "205176  135624.0 -0.910906 -6.089465 -2.480764  0.450255 -2.451513  0.244083   \n",
      "205181  135625.0  1.633732 -0.554962 -2.158074  0.310600  0.466833 -0.164429   \n",
      "205193  135629.0  0.995300 -2.266950 -0.826987  0.682239 -0.379408  2.549445   \n",
      "205200  135631.0  1.820345 -0.352164 -2.789204  0.135607  0.807876 -1.416490   \n",
      "205203  135633.0  1.772366 -1.353892 -1.787420 -0.946054 -0.397970 -0.682090   \n",
      "...          ...       ...       ...       ...       ...       ...       ...   \n",
      "284748  172738.0  1.634178 -0.486939 -1.975967  0.495364  0.263635 -0.713049   \n",
      "284753  172743.0  1.465737 -0.618047 -2.851391  1.425282  0.893893 -0.958325   \n",
      "284754  172743.0  1.963054 -1.900613 -0.846258 -1.559943 -1.391654 -0.050767   \n",
      "284757  172745.0 -1.757643 -0.982659  1.091540 -1.409539 -0.662159  0.046930   \n",
      "284806  172792.0 -0.533413 -0.189733  0.703337 -0.506271 -0.012546 -0.649617   \n",
      "\n",
      "              V7        V8        V9  ...       V26       V27       V28  \\\n",
      "205176  1.161329 -0.405178  0.103419  ... -0.763865 -0.304188  0.238648   \n",
      "205181  0.250471 -0.078515  0.663452  ... -0.131656 -0.043999  0.008959   \n",
      "205193 -0.806033  0.776213  1.684245  ...  0.161789 -0.030234  0.013610   \n",
      "205200  1.268715 -0.694901 -0.011885  ...  0.406003 -0.137017 -0.051336   \n",
      "205203 -0.025334 -0.236286 -0.934382  ... -0.386380 -0.096936 -0.028907   \n",
      "...          ...       ...       ...  ...       ...       ...       ...   \n",
      "284748  0.459925 -0.336879  0.743676  ... -0.145522 -0.040554  0.024884   \n",
      "284753  1.508074 -0.625691 -0.369824  ... -0.254918 -0.117200 -0.014737   \n",
      "284754 -1.213197 -0.003610 -1.357171  ... -0.242083 -0.003984 -0.022882   \n",
      "284757  0.173241  0.364812  1.143381  ...  0.366751 -0.102628 -0.458915   \n",
      "284806  1.577006 -0.414650  0.486180  ... -0.818267 -0.002415  0.013649   \n",
      "\n",
      "         Amount  Class  Category_id  Category  Customer_id     Tran_Id  \\\n",
      "205176  1610.60      0            4   Regalia  Cust_205177  Abcd205177   \n",
      "205181   205.02      0            4   Regalia  Cust_205182  Abcd205182   \n",
      "205193   437.60      0            4   Regalia  Cust_205194  Abcd205194   \n",
      "205200   183.00      0            4   Regalia  Cust_205201  Abcd205201   \n",
      "205203   228.54      0            4   Regalia  Cust_205204  Abcd205204   \n",
      "...         ...    ...          ...       ...          ...         ...   \n",
      "284748   220.28      0            4   Regalia  Cust_284749  Abcd284749   \n",
      "284753   337.54      0            4   Regalia  Cust_284754  Abcd284754   \n",
      "284754   156.00      0            4   Regalia  Cust_284755  Abcd284755   \n",
      "284757   200.00      0            4   Regalia  Cust_284758  Abcd284758   \n",
      "284806   217.00      0            4   Regalia  Cust_284807  Abcd284807   \n",
      "\n",
      "        Anomaly  \n",
      "205176        1  \n",
      "205181        1  \n",
      "205193        1  \n",
      "205200        1  \n",
      "205203        1  \n",
      "...         ...  \n",
      "284748        1  \n",
      "284753        1  \n",
      "284754        1  \n",
      "284757        1  \n",
      "284806        1  \n",
      "\n",
      "[10417 rows x 36 columns]\n"
     ]
    }
   ],
   "source": [
    "regalia_anomalies = dataset[(dataset['Anomaly'] == 1) & (dataset['Category'] == 'Regalia')]\n",
    "\n",
    "print(regalia_anomalies)"
   ]
  },
  {
   "cell_type": "code",
   "execution_count": null,
   "id": "37067da8-6e44-4d66-8e4e-c8c7b77589e4",
   "metadata": {},
   "outputs": [],
   "source": []
  }
 ],
 "metadata": {
  "kernelspec": {
   "display_name": "Python 3 (ipykernel)",
   "language": "python",
   "name": "python3"
  },
  "language_info": {
   "codemirror_mode": {
    "name": "ipython",
    "version": 3
   },
   "file_extension": ".py",
   "mimetype": "text/x-python",
   "name": "python",
   "nbconvert_exporter": "python",
   "pygments_lexer": "ipython3",
   "version": "3.11.7"
  }
 },
 "nbformat": 4,
 "nbformat_minor": 5
}
